{
 "cells": [
  {
   "cell_type": "code",
   "execution_count": 39,
   "id": "79959b49",
   "metadata": {},
   "outputs": [],
   "source": [
    "import os\n",
    "from pathlib import Path\n",
    "import sys\n",
    "\n",
    "# Set the project root relative to this notebook\n",
    "project_root = Path.cwd().parent  # assumes you're inside 'notebooks/'\n",
    "os.chdir(project_root)            # ensures all relative paths work from root\n",
    "sys.path.append(str(project_root / \"src\"))  # allows `from mils_pruning import ...`\n"
   ]
  },
  {
   "cell_type": "code",
   "execution_count": 47,
   "id": "6b839aec",
   "metadata": {},
   "outputs": [],
   "source": [
    "def plot_first_run(names, sigma=1, directory=\"results\"):\n",
    "    import matplotlib.pyplot as plt\n",
    "    import numpy as np\n",
    "    from scipy.ndimage import gaussian_filter1d\n",
    "    from pathlib import Path\n",
    "\n",
    "    plt.figure(figsize=(10, 6))\n",
    "    plotted = False\n",
    "\n",
    "    for name in names:\n",
    "        acc_path = Path(directory) / f\"{name}_run0_accs.npy\"\n",
    "        nodes_path = Path(directory) / f\"{name}_run0_nodes.npy\"\n",
    "\n",
    "        if not acc_path.exists():\n",
    "            print(f\"[Missing] {acc_path}\")\n",
    "            continue\n",
    "        if not nodes_path.exists():\n",
    "            print(f\"[Missing] {nodes_path}\")\n",
    "            continue\n",
    "\n",
    "        acc = np.load(acc_path)\n",
    "        nodes = np.load(nodes_path)\n",
    "\n",
    "        acc_smooth = gaussian_filter1d(acc, sigma=sigma)\n",
    "        plt.plot(nodes, acc_smooth, label=name)\n",
    "        plotted = True\n",
    "\n",
    "    if plotted:\n",
    "        plt.xlabel(\"Active Nodes\")\n",
    "        plt.ylabel(\"Test Accuracy (%)\")\n",
    "        plt.title(\"Accuracy of First Run (Smoothed)\")\n",
    "        plt.gca().invert_xaxis()\n",
    "        plt.grid(True)\n",
    "        plt.legend(loc=\"lower left\")\n",
    "        plt.tight_layout()\n",
    "        plt.show()\n",
    "    else:\n",
    "        print(\"No valid data found to plot.\")\n"
   ]
  },
  {
   "cell_type": "code",
   "execution_count": 48,
   "id": "794f4123",
   "metadata": {},
   "outputs": [
    {
     "name": "stdout",
     "output_type": "stream",
     "text": [
      "[Missing] results/bdm_mils_min_increase_run0_accs.npy\n",
      "[Missing] results/bdm_mils_max_increase_run0_accs.npy\n",
      "[Missing] results/bdm_mils_min_absolute_run0_accs.npy\n",
      "[Missing] results/bdm_mils_max_absolute_run0_accs.npy\n",
      "[Missing] results/bdm_mils_min_decrease_run0_accs.npy\n",
      "[Missing] results/bdm_mils_max_decrease_run0_accs.npy\n",
      "[Missing] results/random_run0_accs.npy\n",
      "No valid data found to plot.\n"
     ]
    },
    {
     "data": {
      "text/plain": [
       "<Figure size 1000x600 with 0 Axes>"
      ]
     },
     "metadata": {},
     "output_type": "display_data"
    }
   ],
   "source": [
    "plot_first_run(\n",
    "    names=[\n",
    "        \"bdm_mils_min_increase\",\n",
    "        \"bdm_mils_max_increase\",\n",
    "        \"bdm_mils_min_absolute\",\n",
    "        \"bdm_mils_max_absolute\",\n",
    "        \"bdm_mils_min_decrease\",\n",
    "        \"bdm_mils_max_decrease\",\n",
    "        \"random\"\n",
    "    ],\n",
    "    sigma=1\n",
    ")\n"
   ]
  },
  {
   "cell_type": "code",
   "execution_count": 46,
   "id": "7d4279b9",
   "metadata": {},
   "outputs": [
    {
     "name": "stdout",
     "output_type": "stream",
     "text": [
      "bdm_mils_min_increase:\n",
      "  accs.npy exists? False\n",
      "  nodes.npy exists? False\n",
      "bdm_mils_max_increase:\n",
      "  accs.npy exists? False\n",
      "  nodes.npy exists? False\n",
      "bdm_mils_min_absolute:\n",
      "  accs.npy exists? False\n",
      "  nodes.npy exists? False\n",
      "bdm_mils_max_absolute:\n",
      "  accs.npy exists? False\n",
      "  nodes.npy exists? False\n",
      "bdm_mils_min_decrease:\n",
      "  accs.npy exists? False\n",
      "  nodes.npy exists? False\n",
      "bdm_mils_max_decrease:\n",
      "  accs.npy exists? False\n",
      "  nodes.npy exists? False\n",
      "random:\n",
      "  accs.npy exists? False\n",
      "  nodes.npy exists? False\n"
     ]
    }
   ],
   "source": [
    "from pathlib import Path\n",
    "\n",
    "names = [\n",
    "    \"bdm_mils_min_increase\",\n",
    "    \"bdm_mils_max_increase\",\n",
    "    \"bdm_mils_min_absolute\",\n",
    "    \"bdm_mils_max_absolute\",\n",
    "    \"bdm_mils_min_decrease\",\n",
    "    \"bdm_mils_max_decrease\",\n",
    "    \"random\"\n",
    "]\n",
    "\n",
    "directory = Path(\"results\")\n",
    "for name in names:\n",
    "    acc_path = directory / f\"{name}_run0_accs.npy\"\n",
    "    nodes_path = directory / f\"{name}_run0_nodes.npy\"\n",
    "    print(f\"{name}:\")\n",
    "    print(f\"  accs.npy exists? {acc_path.exists()}\")\n",
    "    print(f\"  nodes.npy exists? {nodes_path.exists()}\")\n"
   ]
  },
  {
   "cell_type": "code",
   "execution_count": 2,
   "id": "815f885d",
   "metadata": {},
   "outputs": [
    {
     "name": "stdout",
     "output_type": "stream",
     "text": [
      "Listing all .npy files under 'results/':\n",
      "\n"
     ]
    }
   ],
   "source": [
    "from pathlib import Path\n",
    "\n",
    "results_dir = Path(\"results\")\n",
    "\n",
    "print(\"Listing all .npy files under 'results/':\\n\")\n",
    "for path in sorted(results_dir.rglob(\"*.npy\")):\n",
    "    print(path.relative_to(results_dir))\n"
   ]
  },
  {
   "cell_type": "code",
   "execution_count": null,
   "id": "eab3c8b9",
   "metadata": {},
   "outputs": [],
   "source": []
  }
 ],
 "metadata": {
  "kernelspec": {
   "display_name": "mils-pruning-_UJi9DPh-py3.11",
   "language": "python",
   "name": "python3"
  },
  "language_info": {
   "codemirror_mode": {
    "name": "ipython",
    "version": 3
   },
   "file_extension": ".py",
   "mimetype": "text/x-python",
   "name": "python",
   "nbconvert_exporter": "python",
   "pygments_lexer": "ipython3",
   "version": "3.11.8"
  }
 },
 "nbformat": 4,
 "nbformat_minor": 5
}
